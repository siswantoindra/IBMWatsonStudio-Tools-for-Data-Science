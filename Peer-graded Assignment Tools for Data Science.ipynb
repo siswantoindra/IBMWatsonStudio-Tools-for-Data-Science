{
    "cells": [
        {
            "cell_type": "markdown",
            "metadata": {
                "collapsed": true
            },
            "source": "# My Jupyter Notebook on IBM Watson Studio"
        },
        {
            "cell_type": "markdown",
            "metadata": {},
            "source": "#### Siswanto Indra"
        },
        {
            "cell_type": "markdown",
            "metadata": {},
            "source": "*I am interested in Data Science because I want to solve and optimize as many problems as I can. I want to have a better job as well*"
        },
        {
            "cell_type": "markdown",
            "metadata": {},
            "source": "#### The following code is the velocity formula"
        },
        {
            "cell_type": "code",
            "execution_count": 7,
            "metadata": {},
            "outputs": [
                {
                    "data": {
                        "text/plain": "50.0"
                    },
                    "execution_count": 7,
                    "metadata": {},
                    "output_type": "execute_result"
                }
            ],
            "source": "def velocity(displacement,time):\n    v = displacement/time\n    return v\n# displacement for 100 kilometers for 2 hours\ns = 100\nt = 2\n\nvelocity(s,t)"
        },
        {
            "cell_type": "markdown",
            "metadata": {},
            "source": "1. Car\n    * Tesla\n    * Toyota\n2. Smartphone\n    * Iphone\n    * Android\n    \n> \"People should pursue what they're passionate about. That will make them happier than pretty much anything else\". Elon Musk"
        },
        {
            "cell_type": "code",
            "execution_count": null,
            "metadata": {},
            "outputs": [],
            "source": ""
        }
    ],
    "metadata": {
        "kernelspec": {
            "display_name": "Python 3.7",
            "language": "python",
            "name": "python3"
        },
        "language_info": {
            "codemirror_mode": {
                "name": "ipython",
                "version": 3
            },
            "file_extension": ".py",
            "mimetype": "text/x-python",
            "name": "python",
            "nbconvert_exporter": "python",
            "pygments_lexer": "ipython3",
            "version": "3.7.10"
        }
    },
    "nbformat": 4,
    "nbformat_minor": 1
}